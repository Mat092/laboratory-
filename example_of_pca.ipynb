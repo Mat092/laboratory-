{
 "cells": [
  {
   "cell_type": "code",
   "execution_count": 80,
   "metadata": {},
   "outputs": [],
   "source": [
    "import numpy as np\n",
    "import pandas as pd\n",
    "import random as rd\n",
    "from sklearn.decomposition import PCA\n",
    "from sklearn import preprocessing\n",
    "import matplotlib.pyplot as plt "
   ]
  },
  {
   "cell_type": "code",
   "execution_count": 81,
   "metadata": {},
   "outputs": [],
   "source": [
    "genes = [\"gene\" + str(i) for i in range(1,101)]\n",
    "\n",
    "wt = [\"wt\" + str(i) for i in range(1,6)]\n",
    "ko = [\"ko\" + str(i) for i in range(1,6)]"
   ]
  },
  {
   "cell_type": "code",
   "execution_count": 82,
   "metadata": {},
   "outputs": [],
   "source": [
    "data = pd.DataFrame(columns = [*wt,*ko], index = genes)"
   ]
  },
  {
   "cell_type": "code",
   "execution_count": 83,
   "metadata": {},
   "outputs": [],
   "source": [
    "for gene in data.index:\n",
    "    data.loc[gene,\"wt1\":\"wt5\"] = np.random.poisson(lam = rd.randrange(10,1000),\n",
    "                                                    size = 5)\n",
    "    data.loc[gene, \"ko1\":\"ko5\"] = np.random.poisson(lam = rd.randrange(10,1000),\n",
    "                                                   size = 5)"
   ]
  },
  {
   "cell_type": "code",
   "execution_count": 84,
   "metadata": {},
   "outputs": [
    {
     "data": {
      "text/html": [
       "<div>\n",
       "<style scoped>\n",
       "    .dataframe tbody tr th:only-of-type {\n",
       "        vertical-align: middle;\n",
       "    }\n",
       "\n",
       "    .dataframe tbody tr th {\n",
       "        vertical-align: top;\n",
       "    }\n",
       "\n",
       "    .dataframe thead th {\n",
       "        text-align: right;\n",
       "    }\n",
       "</style>\n",
       "<table border=\"1\" class=\"dataframe\">\n",
       "  <thead>\n",
       "    <tr style=\"text-align: right;\">\n",
       "      <th></th>\n",
       "      <th>wt1</th>\n",
       "      <th>wt2</th>\n",
       "      <th>wt3</th>\n",
       "      <th>wt4</th>\n",
       "      <th>wt5</th>\n",
       "      <th>ko1</th>\n",
       "      <th>ko2</th>\n",
       "      <th>ko3</th>\n",
       "      <th>ko4</th>\n",
       "      <th>ko5</th>\n",
       "    </tr>\n",
       "  </thead>\n",
       "  <tbody>\n",
       "    <tr>\n",
       "      <th>gene1</th>\n",
       "      <td>506</td>\n",
       "      <td>496</td>\n",
       "      <td>484</td>\n",
       "      <td>525</td>\n",
       "      <td>492</td>\n",
       "      <td>870</td>\n",
       "      <td>881</td>\n",
       "      <td>877</td>\n",
       "      <td>834</td>\n",
       "      <td>856</td>\n",
       "    </tr>\n",
       "    <tr>\n",
       "      <th>gene2</th>\n",
       "      <td>323</td>\n",
       "      <td>322</td>\n",
       "      <td>336</td>\n",
       "      <td>326</td>\n",
       "      <td>309</td>\n",
       "      <td>74</td>\n",
       "      <td>64</td>\n",
       "      <td>71</td>\n",
       "      <td>82</td>\n",
       "      <td>79</td>\n",
       "    </tr>\n",
       "    <tr>\n",
       "      <th>gene3</th>\n",
       "      <td>401</td>\n",
       "      <td>380</td>\n",
       "      <td>382</td>\n",
       "      <td>382</td>\n",
       "      <td>424</td>\n",
       "      <td>955</td>\n",
       "      <td>926</td>\n",
       "      <td>919</td>\n",
       "      <td>977</td>\n",
       "      <td>944</td>\n",
       "    </tr>\n",
       "    <tr>\n",
       "      <th>gene4</th>\n",
       "      <td>233</td>\n",
       "      <td>239</td>\n",
       "      <td>237</td>\n",
       "      <td>254</td>\n",
       "      <td>261</td>\n",
       "      <td>952</td>\n",
       "      <td>899</td>\n",
       "      <td>934</td>\n",
       "      <td>957</td>\n",
       "      <td>992</td>\n",
       "    </tr>\n",
       "    <tr>\n",
       "      <th>gene5</th>\n",
       "      <td>806</td>\n",
       "      <td>816</td>\n",
       "      <td>816</td>\n",
       "      <td>808</td>\n",
       "      <td>796</td>\n",
       "      <td>309</td>\n",
       "      <td>290</td>\n",
       "      <td>321</td>\n",
       "      <td>330</td>\n",
       "      <td>320</td>\n",
       "    </tr>\n",
       "  </tbody>\n",
       "</table>\n",
       "</div>"
      ],
      "text/plain": [
       "       wt1  wt2  wt3  wt4  wt5  ko1  ko2  ko3  ko4  ko5\n",
       "gene1  506  496  484  525  492  870  881  877  834  856\n",
       "gene2  323  322  336  326  309   74   64   71   82   79\n",
       "gene3  401  380  382  382  424  955  926  919  977  944\n",
       "gene4  233  239  237  254  261  952  899  934  957  992\n",
       "gene5  806  816  816  808  796  309  290  321  330  320"
      ]
     },
     "execution_count": 84,
     "metadata": {},
     "output_type": "execute_result"
    }
   ],
   "source": [
    "data.head()"
   ]
  },
  {
   "cell_type": "code",
   "execution_count": 85,
   "metadata": {},
   "outputs": [
    {
     "data": {
      "text/plain": [
       "(100, 10)"
      ]
     },
     "execution_count": 85,
     "metadata": {},
     "output_type": "execute_result"
    }
   ],
   "source": [
    "data.shape"
   ]
  },
  {
   "cell_type": "code",
   "execution_count": 86,
   "metadata": {},
   "outputs": [
    {
     "name": "stderr",
     "output_type": "stream",
     "text": [
      "/home/mattia/anaconda3/lib/python3.6/site-packages/ipykernel_launcher.py:2: DataConversionWarning: Data with input dtype int64 were all converted to float64 by the scale function.\n",
      "  \n"
     ]
    }
   ],
   "source": [
    "#created a sample data \n",
    "scaled_data = preprocessing.scale(data.T)\n",
    "#0 means and 1 variance\n",
    "#don't know what the red box down here is meant to do eheh"
   ]
  },
  {
   "cell_type": "code",
   "execution_count": 87,
   "metadata": {},
   "outputs": [],
   "source": [
    "pca = PCA()#object that can be trained from sklearn \n",
    "pca.fit(scaled_data)\n",
    "pca_data = pca.transform(scaled_data)\n",
    "\n",
    "per_var = np.round(pca.explained_variance_ratio_*100,\n",
    "                  decimals = 1)\n",
    "\n",
    "labels = [\"PC\" + str(x) for x in range(1,len(per_var)+1)]"
   ]
  },
  {
   "cell_type": "code",
   "execution_count": 88,
   "metadata": {},
   "outputs": [
    {
     "data": {
      "image/png": "[encoded data removed]",
      "text/plain": [
       "<Figure size 432x288 with 1 Axes>"
      ]
     },
     "metadata": {
      "needs_background": "light"
     },
     "output_type": "display_data"
    }
   ],
   "source": [
    "plt.bar(x = range(1,len(per_var)+1),\n",
    "       height = per_var,\n",
    "       tick_label = labels)\n",
    "\n",
    "plt.ylabel(\"Percentage of Explained Variance\")\n",
    "plt.xlabel(\"Principal Component\")\n",
    "plt.title(\"Screen Plot\")\n",
    "plt.show()"
   ]
  },
  {
   "cell_type": "code",
   "execution_count": 89,
   "metadata": {},
   "outputs": [
    {
     "data": {
      "image/png": "[encoded data removed]",
      "text/plain": [
       "<Figure size 432x288 with 1 Axes>"
      ]
     },
     "metadata": {
      "needs_background": "light"
     },
     "output_type": "display_data"
    }
   ],
   "source": [
    "pca_df = pd.DataFrame(pca_data,\n",
    "                     index = [*wt,*ko],\n",
    "                     columns = labels)\n",
    "\n",
    "plt.scatter(pca_df.PC1, pca_df.PC2)\n",
    "plt.title(\"My PCA Graph\")\n",
    "plt.xlabel(\"PC1 - {0}%\".format(per_var[0]))\n",
    "plt.ylabel(\"PC2 - {0}%\".format(per_var[1]))\n",
    "\n",
    "for sample in pca_df.index:\n",
    "    plt.annotate(sample,\n",
    "                (pca_df.PC1.loc[sample],\n",
    "                pca_df.PC2.loc[sample]))\n",
    "    \n",
    "plt.show()"
   ]
  },
  {
   "cell_type": "code",
   "execution_count": 90,
   "metadata": {},
   "outputs": [
    {
     "data": {
      "text/plain": [
       "gene55    -0.105822\n",
       "gene92    -0.105812\n",
       "gene5     -0.105811\n",
       "gene63    -0.105758\n",
       "gene93    -0.105746\n",
       "gene100   -0.105741\n",
       "gene94    -0.105737\n",
       "gene69     0.105736\n",
       "gene20     0.105732\n",
       "gene38     0.105731\n",
       "dtype: float64"
      ]
     },
     "execution_count": 90,
     "metadata": {},
     "output_type": "execute_result"
    }
   ],
   "source": [
    "loading_scores = pd.Series(pca.components_[0],\n",
    "                          index = genes)\n",
    "\n",
    "sorted_loading_scores = loading_scores.abs().sort_values(ascending = False)\n",
    "\n",
    "top_10_genes = sorted_loading_scores[0:10].index.values\n",
    "\n",
    "loading_scores[top_10_genes]"
   ]
  },
  {
   "cell_type": "code",
   "execution_count": 91,
   "metadata": {},
   "outputs": [],
   "source": [
    "import numpy as np \n",
    "import pandas as pd \n",
    "import matplotlib.pyplot as plt\n",
    "import seaborn as sns\n",
    "\n",
    "url = \"https://archive.ics.uci.edu/ml/machine-learning-databases/iris/iris.data\"\n",
    "\n",
    "iris_df = pd.read_csv(url, names=['sepal length','sepal width','petal length','petal width','target'])"
   ]
  },
  {
   "cell_type": "code",
   "execution_count": 92,
   "metadata": {},
   "outputs": [],
   "source": [
    "#removing the \"Iris-\" thing from denominations.\n",
    "\n",
    "iris_df = iris_df.replace(to_replace = \"Iris-setosa\",value = \"setosa\")\n",
    "iris_df = iris_df.replace(to_replace = \"Iris-versicolor\", value = \"versicolor\")\n",
    "iris_df = iris_df.replace(to_replace = \"Iris-virginica\", value = \"virginica\")"
   ]
  },
  {
   "cell_type": "code",
   "execution_count": 93,
   "metadata": {},
   "outputs": [
    {
     "data": {
      "text/html": [
       "<div>\n",
       "<style scoped>\n",
       "    .dataframe tbody tr th:only-of-type {\n",
       "        vertical-align: middle;\n",
       "    }\n",
       "\n",
       "    .dataframe tbody tr th {\n",
       "        vertical-align: top;\n",
       "    }\n",
       "\n",
       "    .dataframe thead th {\n",
       "        text-align: right;\n",
       "    }\n",
       "</style>\n",
       "<table border=\"1\" class=\"dataframe\">\n",
       "  <thead>\n",
       "    <tr style=\"text-align: right;\">\n",
       "      <th></th>\n",
       "      <th>sepal length</th>\n",
       "      <th>sepal width</th>\n",
       "      <th>petal length</th>\n",
       "      <th>petal width</th>\n",
       "      <th>target</th>\n",
       "    </tr>\n",
       "  </thead>\n",
       "  <tbody>\n",
       "    <tr>\n",
       "      <th>0</th>\n",
       "      <td>5.1</td>\n",
       "      <td>3.5</td>\n",
       "      <td>1.4</td>\n",
       "      <td>0.2</td>\n",
       "      <td>setosa</td>\n",
       "    </tr>\n",
       "    <tr>\n",
       "      <th>1</th>\n",
       "      <td>4.9</td>\n",
       "      <td>3.0</td>\n",
       "      <td>1.4</td>\n",
       "      <td>0.2</td>\n",
       "      <td>setosa</td>\n",
       "    </tr>\n",
       "    <tr>\n",
       "      <th>2</th>\n",
       "      <td>4.7</td>\n",
       "      <td>3.2</td>\n",
       "      <td>1.3</td>\n",
       "      <td>0.2</td>\n",
       "      <td>setosa</td>\n",
       "    </tr>\n",
       "    <tr>\n",
       "      <th>3</th>\n",
       "      <td>4.6</td>\n",
       "      <td>3.1</td>\n",
       "      <td>1.5</td>\n",
       "      <td>0.2</td>\n",
       "      <td>setosa</td>\n",
       "    </tr>\n",
       "    <tr>\n",
       "      <th>4</th>\n",
       "      <td>5.0</td>\n",
       "      <td>3.6</td>\n",
       "      <td>1.4</td>\n",
       "      <td>0.2</td>\n",
       "      <td>setosa</td>\n",
       "    </tr>\n",
       "  </tbody>\n",
       "</table>\n",
       "</div>"
      ],
      "text/plain": [
       "   sepal length  sepal width  petal length  petal width  target\n",
       "0           5.1          3.5           1.4          0.2  setosa\n",
       "1           4.9          3.0           1.4          0.2  setosa\n",
       "2           4.7          3.2           1.3          0.2  setosa\n",
       "3           4.6          3.1           1.5          0.2  setosa\n",
       "4           5.0          3.6           1.4          0.2  setosa"
      ]
     },
     "execution_count": 93,
     "metadata": {},
     "output_type": "execute_result"
    }
   ],
   "source": [
    "iris_df.head()"
   ]
  },
  {
   "cell_type": "code",
   "execution_count": 94,
   "metadata": {},
   "outputs": [
    {
     "data": {
      "image/png": "[encoded data removed]",
      "text/plain": [
       "<Figure size 432x288 with 1 Axes>"
      ]
     },
     "metadata": {
      "needs_background": "light"
     },
     "output_type": "display_data"
    }
   ],
   "source": [
    "#ook, now trying some plots with matplotlib, to understand how to separate things in pandas dataframe\n",
    "\n",
    "selection = iris_df[iris_df.target == \"setosa\"]\n",
    "\n",
    "plt.scatter(data = selection, \n",
    "            x = \"sepal length\",\n",
    "            y = \"sepal width\", color = \"g\",\n",
    "            label = \"setosa\")\n",
    "\n",
    "plt.scatter(data = iris_df[iris_df.target == \"virginica\"], \n",
    "            x = \"sepal length\",\n",
    "            y = \"sepal width\", color = \"b\",\n",
    "           label = \"virginica\")\n",
    "\n",
    "plt.scatter(data = iris_df[iris_df.target == \"versicolor\"], \n",
    "            x = \"sepal length\",\n",
    "            y = \"sepal width\", color = \"r\",\n",
    "            label = \"versicolor\")\n",
    "\n",
    "labels_ = [\"sepal lenght\",\"sepal width\"]\n",
    "plt.xlabel(labels_[0])\n",
    "plt.ylabel(labels_[1])\n",
    "plt.title(\"Sepal length vs Sepal width in 3 species of Iris\")\n",
    "plt.legend()\n",
    "sns.despine()"
   ]
  },
  {
   "cell_type": "code",
   "execution_count": 95,
   "metadata": {},
   "outputs": [],
   "source": [
    "from sklearn.preprocessing import StandardScaler \n",
    "\n",
    "features = [\"sepal length\",\"sepal width\",\"petal length\",\"petal width\"]\n",
    "\n",
    "#separeting features and target (supposing I know how the dataset is organized)\n",
    "x = iris_df.loc[:,features]\n",
    "y = iris_df.loc[:,\"target\"]\n",
    "\n",
    "x = StandardScaler().fit_transform(x) #Scaling all features (mean 0 and σ = 1 ?)\n",
    "\n"
   ]
  },
  {
   "cell_type": "code",
   "execution_count": 96,
   "metadata": {},
   "outputs": [
    {
     "data": {
      "text/html": [
       "<div>\n",
       "<style scoped>\n",
       "    .dataframe tbody tr th:only-of-type {\n",
       "        vertical-align: middle;\n",
       "    }\n",
       "\n",
       "    .dataframe tbody tr th {\n",
       "        vertical-align: top;\n",
       "    }\n",
       "\n",
       "    .dataframe thead th {\n",
       "        text-align: right;\n",
       "    }\n",
       "</style>\n",
       "<table border=\"1\" class=\"dataframe\">\n",
       "  <thead>\n",
       "    <tr style=\"text-align: right;\">\n",
       "      <th></th>\n",
       "      <th>sepal length</th>\n",
       "      <th>sepal width</th>\n",
       "      <th>petal length</th>\n",
       "      <th>petal width</th>\n",
       "      <th>target</th>\n",
       "    </tr>\n",
       "  </thead>\n",
       "  <tbody>\n",
       "    <tr>\n",
       "      <th>0</th>\n",
       "      <td>-0.900681</td>\n",
       "      <td>1.032057</td>\n",
       "      <td>-1.341272</td>\n",
       "      <td>-1.312977</td>\n",
       "      <td>setosa</td>\n",
       "    </tr>\n",
       "    <tr>\n",
       "      <th>1</th>\n",
       "      <td>-1.143017</td>\n",
       "      <td>-0.124958</td>\n",
       "      <td>-1.341272</td>\n",
       "      <td>-1.312977</td>\n",
       "      <td>setosa</td>\n",
       "    </tr>\n",
       "    <tr>\n",
       "      <th>2</th>\n",
       "      <td>-1.385353</td>\n",
       "      <td>0.337848</td>\n",
       "      <td>-1.398138</td>\n",
       "      <td>-1.312977</td>\n",
       "      <td>setosa</td>\n",
       "    </tr>\n",
       "    <tr>\n",
       "      <th>3</th>\n",
       "      <td>-1.506521</td>\n",
       "      <td>0.106445</td>\n",
       "      <td>-1.284407</td>\n",
       "      <td>-1.312977</td>\n",
       "      <td>setosa</td>\n",
       "    </tr>\n",
       "    <tr>\n",
       "      <th>4</th>\n",
       "      <td>-1.021849</td>\n",
       "      <td>1.263460</td>\n",
       "      <td>-1.341272</td>\n",
       "      <td>-1.312977</td>\n",
       "      <td>setosa</td>\n",
       "    </tr>\n",
       "  </tbody>\n",
       "</table>\n",
       "</div>"
      ],
      "text/plain": [
       "   sepal length  sepal width  petal length  petal width  target\n",
       "0     -0.900681     1.032057     -1.341272    -1.312977  setosa\n",
       "1     -1.143017    -0.124958     -1.341272    -1.312977  setosa\n",
       "2     -1.385353     0.337848     -1.398138    -1.312977  setosa\n",
       "3     -1.506521     0.106445     -1.284407    -1.312977  setosa\n",
       "4     -1.021849     1.263460     -1.341272    -1.312977  setosa"
      ]
     },
     "execution_count": 96,
     "metadata": {},
     "output_type": "execute_result"
    }
   ],
   "source": [
    "std_iris = pd.DataFrame(data = x, columns = features)\n",
    "std_iris = std_iris.join(y)\n",
    "std_iris.head() #standardized iris dataset with target!"
   ]
  },
  {
   "cell_type": "code",
   "execution_count": 97,
   "metadata": {},
   "outputs": [
    {
     "data": {
      "image/png": "[encoded data removed]",
      "text/plain": [
       "<Figure size 432x288 with 1 Axes>"
      ]
     },
     "metadata": {
      "needs_background": "light"
     },
     "output_type": "display_data"
    }
   ],
   "source": [
    "from sklearn.decomposition import PCA\n",
    "\n",
    "pca = PCA()#object that can be trained from sklearn \n",
    "\n",
    "x_scaled = iris_df.loc[:,features] #remove the columns target.\n",
    "\n",
    "pca.fit(x_scaled)\n",
    "pca_data = pca.transform(x_scaled)\n",
    "\n",
    "per_var = np.round(pca.explained_variance_ratio_*100,\n",
    "                  decimals = 1)\n",
    "\n",
    "labels = [\"PC\" + str(i) for i in range(1,len(per_var)+1)] #simple labels\n",
    "\n",
    "\n",
    "\n",
    "#graph\n",
    "plt.bar(x = range(1,len(per_var)+1),\n",
    "       height = per_var,\n",
    "       tick_label = labels)\n",
    "\n",
    "plt.ylabel(\"Percentage of Explained Variance\")\n",
    "plt.xlabel(\"Principal Component\")\n",
    "plt.title(\"Percentage of Variance\")\n",
    "plt.show() #the first two components explain over 90% of the dynamic"
   ]
  },
  {
   "cell_type": "code",
   "execution_count": 98,
   "metadata": {},
   "outputs": [],
   "source": [
    "#now performing a 2 components pca\n",
    "\n",
    "pca = PCA(n_components = 2) \n",
    "\n",
    "principalComponents = pca.fit_transform(x) #don't know what this does \n",
    "# documentation says: Fit the model and apply dimensionality reduction.\n",
    "\n",
    "principalDf = pd.DataFrame(data = principalComponents,\n",
    "                           columns = ['principal component 1', 'principal component 2']) #create new df\n",
    "\n",
    "finalDf = principalDf.join(y)"
   ]
  },
  {
   "cell_type": "code",
   "execution_count": 99,
   "metadata": {},
   "outputs": [
    {
     "data": {
      "image/png": "[encoded data removed]",
      "text/plain": [
       "<Figure size 576x576 with 1 Axes>"
      ]
     },
     "metadata": {
      "needs_background": "light"
     },
     "output_type": "display_data"
    }
   ],
   "source": [
    "#now visualizing new graph \n",
    "\n",
    "fig = plt.figure(figsize = (8,8))\n",
    "ax = fig.add_subplot(1,1,1) \n",
    "ax.set_xlabel('Principal Component 1', fontsize = 15)\n",
    "ax.set_ylabel('Principal Component 2', fontsize = 15)\n",
    "ax.set_title('2 component PCA', fontsize = 20)\n",
    "\n",
    "targets = ['setosa', 'versicolor', 'virginica']\n",
    "colors = ['g', 'r', 'b']\n",
    "\n",
    "for target, color in zip(targets,colors):\n",
    "    indicesToKeep = finalDf['target'] == target #nice cycle to graph only the flower I want (foo coloring purpose)\n",
    "    ax.scatter(finalDf.loc[indicesToKeep, 'principal component 1'],\n",
    "               finalDf.loc[indicesToKeep, 'principal component 2'],\n",
    "               c = color,\n",
    "               s = 50)\n",
    "    \n",
    "ax.legend(targets)\n",
    "ax.grid()\n",
    "\n",
    "#unfortunately, I can't really show a 4D graph with all the features D:\n",
    "#don't like the style, but no will to change it."
   ]
  },
  {
   "cell_type": "code",
   "execution_count": 103,
   "metadata": {},
   "outputs": [
    {
     "data": {
      "text/plain": [
       "petal length    0.581254\n",
       "petal width     0.565611\n",
       "sepal length    0.522372\n",
       "sepal width    -0.263355\n",
       "dtype: float64"
      ]
     },
     "execution_count": 103,
     "metadata": {},
     "output_type": "execute_result"
    }
   ],
   "source": [
    "#now I would like to see wich feature is the one that most discriminate the data.\n",
    "\n",
    "loading_scores = pd.Series(pca.components_[0],index = features)\n",
    "sorted_loading_scores = loading_scores.abs().sort_values(ascending = False)\n",
    "top_features = sorted_loading_scores[0:10].index.values\n",
    "loading_scores[top_features]\n",
    "\n",
    "#don't know how to read it actually"
   ]
  }
 ],
 "metadata": {
  "kernelspec": {
   "display_name": "Python 3",
   "language": "python",
   "name": "python3"
  },
  "language_info": {
   "codemirror_mode": {
    "name": "ipython",
    "version": 3
   },
   "file_extension": ".py",
   "mimetype": "text/x-python",
   "name": "python",
   "nbconvert_exporter": "python",
   "pygments_lexer": "ipython3",
   "version": "3.6.8"
  }
 },
 "nbformat": 4,
 "nbformat_minor": 2
}
