{
 "cells": [
  {
   "cell_type": "code",
   "execution_count": 3,
   "metadata": {},
   "outputs": [],
   "source": [
    "import numpy as np\n",
    "import pylab as plt\n",
    "import random as rn "
   ]
  },
  {
   "cell_type": "code",
   "execution_count": 5,
   "metadata": {},
   "outputs": [],
   "source": [
    "#diff equations evolve with continuos state and deterministically\n",
    "\n",
    "def removal(state):#estimation of rates of transitions, \n",
    "    return state*0.1 #no unit.\n",
    "\n",
    "def increase(state):\n",
    "    return 1\n",
    "\n",
    "transitions = [removal, increase]\n",
    "transitions_names = [\"removal\", \"increase\"]"
   ]
  },
  {
   "cell_type": "code",
   "execution_count": 17,
   "metadata": {},
   "outputs": [],
   "source": [
    "state = 5 #Markovian: we need only the current state."
   ]
  },
  {
   "cell_type": "code",
   "execution_count": 16,
   "metadata": {},
   "outputs": [
    {
     "data": {
      "text/plain": [
       "[0.5, 1]"
      ]
     },
     "execution_count": 16,
     "metadata": {},
     "output_type": "execute_result"
    }
   ],
   "source": [
    "#we'll see systems not deterministic, Stocastic simulation \n",
    "# algorithm or Guillespie algorithm.\n",
    "\n",
    "#apply the functions that extimate my rates\n",
    "rates = [f(state) for f in transitions]\n",
    "rates #in a given amount of time,the probability tha I gain a particle\n",
    "#is double the prob that i lose a particle."
   ]
  },
  {
   "cell_type": "code",
   "execution_count": 18,
   "metadata": {},
   "outputs": [
    {
     "data": {
      "text/plain": [
       "\"\\nwe don't have continuos values and it's a stocastic process, so\\nther's only a probability to have a specific number at a certain \\ntime\\n\\nexample:\\nState = number of particle or different particles.\\n\\ntwo type of process : destruction and creation(constant rates)\\n\\nI will converge to a probability distro of state.\\n\\nmoment by moment i study what happens to my system. Which is the\\nlikelihhod I will increment or decrement the number of \\nproteins?\\n\\n\\n\""
      ]
     },
     "execution_count": 18,
     "metadata": {},
     "output_type": "execute_result"
    }
   ],
   "source": [
    "\"\"\"\n",
    "we don't have continuos values and it's a stocastic process, so\n",
    "ther's only a probability to have a specific number at a certain \n",
    "time\n",
    "\n",
    "example:\n",
    "State = number of particle or different particles.\n",
    "\n",
    "two type of process : destruction and creation(constant rates)\n",
    "\n",
    "I will converge to a probability distro of state.\n",
    "\n",
    "moment by moment i study what happens to my system. Which is the\n",
    "likelihhod I will increment or decrement the number of \n",
    "proteins?\n",
    "\n",
    "\n",
    "\"\"\"\n",
    "\n"
   ]
  },
  {
   "cell_type": "code",
   "execution_count": 20,
   "metadata": {},
   "outputs": [
    {
     "data": {
      "text/plain": [
       "1.5"
      ]
     },
     "execution_count": 20,
     "metadata": {},
     "output_type": "execute_result"
    }
   ],
   "source": [
    "total_rate = sum(rates)\n",
    "total_rate"
   ]
  },
  {
   "cell_type": "code",
   "execution_count": 49,
   "metadata": {},
   "outputs": [
    {
     "data": {
      "text/plain": [
       "0.5871298684276207"
      ]
     },
     "execution_count": 49,
     "metadata": {},
     "output_type": "execute_result"
    }
   ],
   "source": [
    "time = np.random.exponential(1/total_rate)\n",
    "time"
   ]
  },
  {
   "cell_type": "code",
   "execution_count": 59,
   "metadata": {},
   "outputs": [
    {
     "data": {
      "text/plain": [
       "array([0.33333333, 1.        ])"
      ]
     },
     "execution_count": 59,
     "metadata": {},
     "output_type": "execute_result"
    }
   ],
   "source": [
    "#choose one event\n",
    "normalized_rates = np.cumsum(rates)\n",
    "normalized_rates /= normalized_rates[-1]\n",
    "normalized_rates"
   ]
  },
  {
   "cell_type": "code",
   "execution_count": 60,
   "metadata": {},
   "outputs": [
    {
     "data": {
      "text/plain": [
       "'removal'"
      ]
     },
     "execution_count": 60,
     "metadata": {},
     "output_type": "execute_result"
    }
   ],
   "source": [
    "p = np.random.rand()\n",
    "idx = np.searchsorted(normalized_rates, p)\n",
    "event = transitions_names[idx]\n",
    "event"
   ]
  },
  {
   "cell_type": "code",
   "execution_count": 58,
   "metadata": {},
   "outputs": [
    {
     "data": {
      "text/plain": [
       "['removal']"
      ]
     },
     "execution_count": 58,
     "metadata": {},
     "output_type": "execute_result"
    }
   ],
   "source": [
    "#orrr\n",
    "\n",
    "rn.choices(transitions_names, weights=rates) #easier"
   ]
  },
  {
   "cell_type": "code",
   "execution_count": 61,
   "metadata": {},
   "outputs": [
    {
     "data": {
      "text/plain": [
       "'increase'"
      ]
     },
     "execution_count": 61,
     "metadata": {},
     "output_type": "execute_result"
    }
   ],
   "source": [
    "event = rn.choices(transitions_names, weights=rates)[0]\n",
    "event"
   ]
  },
  {
   "cell_type": "code",
   "execution_count": 62,
   "metadata": {},
   "outputs": [],
   "source": [
    "#aplly the choice\n",
    "if event == 'increase':\n",
    "    state += 1\n",
    "elif event == 'removal':\n",
    "    state -= 1\n",
    "else:\n",
    "    raise ValueError(\"transition not recognized\")"
   ]
  },
  {
   "cell_type": "code",
   "execution_count": 63,
   "metadata": {},
   "outputs": [],
   "source": [
    "#Now the complete cycle: \n",
    "# remember to keep track of time!\n",
    "\n",
    "import typing \n",
    "from enum import Enum"
   ]
  },
  {
   "cell_type": "code",
   "execution_count": 67,
   "metadata": {},
   "outputs": [],
   "source": [
    "class Transition(Enum):\n",
    "    INCREASE = \"increase\"\n",
    "    DECREASE = \"removal\"\n",
    "    \n",
    "class Observation(typing.NamedTuple):\n",
    "    state: typing.Any\n",
    "    time_of_observation : float\n",
    "    time_of_residency: float\n",
    "    transtion: Transition"
   ]
  },
  {
   "cell_type": "code",
   "execution_count": 70,
   "metadata": {},
   "outputs": [
    {
     "data": {
      "text/plain": [
       "Observation(state=5, time_of_observation=1.0, time_of_residency=0.33, transtion=<Transition.DECREASE: 'removal'>)"
      ]
     },
     "execution_count": 70,
     "metadata": {},
     "output_type": "execute_result"
    }
   ],
   "source": [
    "Observation(5,1.0,0.33,Transition.DECREASE) #nice framework"
   ]
  },
  {
   "cell_type": "code",
   "execution_count": 78,
   "metadata": {},
   "outputs": [],
   "source": [
    "transitions = [removal, increase]\n",
    "transitions_names = [Transition.DECREASE, Transition.INCREASE]"
   ]
  },
  {
   "cell_type": "code",
   "execution_count": 80,
   "metadata": {},
   "outputs": [
    {
     "name": "stdout",
     "output_type": "stream",
     "text": [
      "Observation(state=5, time_of_observation=0.0, time_of_residency=0.1470959318502992, transtion=<Transition.DECREASE: 'removal'>)\n",
      "Observation(state=4, time_of_observation=0.1470959318502992, time_of_residency=1.2447704574455671, transtion=<Transition.INCREASE: 'increase'>)\n",
      "Observation(state=5, time_of_observation=1.3918663892958663, time_of_residency=0.26442165952021135, transtion=<Transition.INCREASE: 'increase'>)\n",
      "Observation(state=6, time_of_observation=1.6562880488160776, time_of_residency=1.5923879665472371, transtion=<Transition.DECREASE: 'removal'>)\n",
      "Observation(state=5, time_of_observation=3.2486760153633147, time_of_residency=1.7424953453199188, transtion=<Transition.INCREASE: 'increase'>)\n",
      "Observation(state=6, time_of_observation=4.991171360683234, time_of_residency=1.251503597674473, transtion=<Transition.INCREASE: 'increase'>)\n"
     ]
    }
   ],
   "source": [
    "observed_states = []\n",
    "state = 5\n",
    "total_time = 0.0\n",
    "time_limit = 5.0\n",
    "\n",
    "while total_time < time_limit:\n",
    "    rates = [f(state) for f in transitions]\n",
    "    total_rate = sum(rates)\n",
    "    time = np.random.exponential(1/total_rate)\n",
    "    event = rn.choices(transitions_names, weights=rates)[0]\n",
    "    \n",
    "    observation = Observation(state, total_time, time, event)\n",
    "    print(observation)\n",
    "    observed_states.append(observation)\n",
    "    \n",
    "    total_time += time\n",
    "    \n",
    "    if event == Transition.INCREASE:\n",
    "        state += 1\n",
    "    elif event == Transition.DECREASE:\n",
    "        state -= 1\n",
    "    else:\n",
    "        raise ValueError(\"transition not recognized\")"
   ]
  },
  {
   "cell_type": "code",
   "execution_count": 83,
   "metadata": {},
   "outputs": [],
   "source": [
    "#define a function\n",
    "\n",
    "\n",
    "def simulation(starting_state, time_limit):\n",
    "    observed_states = []\n",
    "    state = starting_state\n",
    "    total_time = 0.0\n",
    "\n",
    "    while total_time < time_limit:\n",
    "        rates = [f(state) for f in transitions]\n",
    "        total_rate = sum(rates)\n",
    "        time = np.random.exponential(1/total_rate)\n",
    "        event = rn.choices(transitions_names, weights=rates)[0]\n",
    "\n",
    "        observation = Observation(state, total_time, time, event)\n",
    "        observed_states.append(observation)\n",
    "\n",
    "        total_time += time\n",
    "\n",
    "        if event == Transition.INCREASE:\n",
    "            state += 1\n",
    "        elif event == Transition.DECREASE:\n",
    "            state -= 1\n",
    "        else:\n",
    "            raise ValueError(\"transition not recognized\")\n",
    "    return observed_states"
   ]
  },
  {
   "cell_type": "code",
   "execution_count": 90,
   "metadata": {},
   "outputs": [],
   "source": [
    "time_limit = 100\n",
    "result = simulation(starting_state=5, time_limit=time_limit)"
   ]
  },
  {
   "cell_type": "code",
   "execution_count": 91,
   "metadata": {},
   "outputs": [
    {
     "data": {
      "text/plain": [
       "213"
      ]
     },
     "execution_count": 91,
     "metadata": {},
     "output_type": "execute_result"
    }
   ],
   "source": [
    "len(result)"
   ]
  },
  {
   "cell_type": "code",
   "execution_count": 94,
   "metadata": {},
   "outputs": [],
   "source": [
    "from collections import Counter"
   ]
  },
  {
   "cell_type": "code",
   "execution_count": 96,
   "metadata": {},
   "outputs": [
    {
     "name": "stdout",
     "output_type": "stream",
     "text": [
      "Counter({7: 0.17226234480014496, 8: 0.1287031784902404, 6: 0.12247542588671483, 10: 0.11638330375067206, 11: 0.11234310450782552, 9: 0.10742569956598232, 12: 0.1063179972773131, 5: 0.060341363279145174, 13: 0.047188253314928666, 14: 0.02094208376106291, 15: 0.010637646505522102, 4: 0.004297267510367366, 16: 0.00012009094075405769})\n"
     ]
    }
   ],
   "source": [
    "distribution = Counter()\n",
    "for observation in result:\n",
    "    state = observation.state\n",
    "    residency_time = observation.time_of_residency\n",
    "    distribution[state] += residency_time/time_limit\n",
    "print(distribution)"
   ]
  },
  {
   "cell_type": "code",
   "execution_count": 97,
   "metadata": {},
   "outputs": [],
   "source": [
    "import scipy.stats as st"
   ]
  },
  {
   "cell_type": "code",
   "execution_count": 99,
   "metadata": {},
   "outputs": [
    {
     "data": {
      "text/plain": [
       "<BarContainer object of 20 artists>"
      ]
     },
     "execution_count": 99,
     "metadata": {},
     "output_type": "execute_result"
    },
    {
     "data": {
      "image/png": "[encoded data removed]",
      "text/plain": [
       "<Figure size 432x288 with 1 Axes>"
      ]
     },
     "metadata": {
      "needs_background": "light"
     },
     "output_type": "display_data"
    }
   ],
   "source": [
    "fig, ax = plt.subplots()\n",
    "ax.bar(distribution.keys(), distribution.values())\n",
    "\n",
    "values = np.arange(20)\n",
    "pmf = st.poisson(10).pmf(values)\n",
    "ax.bar(values, pmf, alpha=0.5)\n",
    "\n",
    "#in orange the simulation I expect (poisson)\n",
    "# in blue the result of the simulation\n",
    "#we have a problem: random number converge with a looot of random\n",
    "# number. With Markov process is even worse."
   ]
  },
  {
   "cell_type": "code",
   "execution_count": 104,
   "metadata": {},
   "outputs": [],
   "source": [
    "#tranform everything in a function\n",
    "\n",
    "def generate_distribution(observation_sequence):\n",
    "    distribution = Counter()\n",
    "    for observation in observation_sequence:\n",
    "        state = observation.state\n",
    "        residency_time = observation.time_of_residency\n",
    "        distribution[state] += residency_time/time_limit\n",
    "        \n",
    "    total_time_observed = sum(distribution.values())\n",
    "    for state in distribution:\n",
    "        distribution[state]/= total_time_observed\n",
    "    return distribution\n"
   ]
  },
  {
   "cell_type": "code",
   "execution_count": 105,
   "metadata": {},
   "outputs": [],
   "source": [
    "time_limit = 1_000\n",
    "result = simulation(starting_state=5, time_limit=time_limit)\n",
    "distribution = generate_distribution(result)"
   ]
  },
  {
   "cell_type": "code",
   "execution_count": 110,
   "metadata": {},
   "outputs": [
    {
     "data": {
      "text/plain": [
       "<BarContainer object of 20 artists>"
      ]
     },
     "execution_count": 110,
     "metadata": {},
     "output_type": "execute_result"
    },
    {
     "data": {
      "image/png": "[encoded data removed]",
      "text/plain": [
       "<Figure size 432x288 with 1 Axes>"
      ]
     },
     "metadata": {
      "needs_background": "light"
     },
     "output_type": "display_data"
    }
   ],
   "source": [
    "fig, ax = plt.subplots()\n",
    "ax.bar(distribution.keys(), distribution.values())\n",
    "\n",
    "values = np.arange(20)\n",
    "pmf = st.poisson(10).pmf(values)\n",
    "ax.bar(values, pmf, alpha=0.5)\n",
    "\n",
    "#to check if the two are the same I should take the max differ\n",
    "#of cumulatives and see how this decrease as I increase the \n",
    "#number of simulation, if that does not happens ther's a form of\n",
    "#bias i'm not counting."
   ]
  },
  {
   "cell_type": "code",
   "execution_count": 111,
   "metadata": {},
   "outputs": [],
   "source": [
    "#this kind simulation is sensitive to \n",
    "# where I start the simulation.\n",
    "\n",
    "time_limit = 1_000\n",
    "result = simulation(starting_state=50, time_limit=time_limit)\n",
    "distribution = generate_distribution(result)"
   ]
  },
  {
   "cell_type": "code",
   "execution_count": 113,
   "metadata": {},
   "outputs": [
    {
     "data": {
      "text/plain": [
       "<BarContainer object of 20 artists>"
      ]
     },
     "execution_count": 113,
     "metadata": {},
     "output_type": "execute_result"
    },
    {
     "data": {
      "image/png": "[encoded data removed]",
      "text/plain": [
       "<Figure size 432x288 with 1 Axes>"
      ]
     },
     "metadata": {
      "needs_background": "light"
     },
     "output_type": "display_data"
    }
   ],
   "source": [
    "fig, ax = plt.subplots()\n",
    "ax.bar(distribution.keys(), distribution.values())\n",
    "\n",
    "values = np.arange(20)\n",
    "pmf = st.poisson(10).pmf(values)\n",
    "ax.bar(values, pmf, alpha=0.5)\n",
    "\n",
    "#very skewed, the time it gets to reach normal state is lost.\n",
    "# 50 is a very unlikely state."
   ]
  },
  {
   "cell_type": "code",
   "execution_count": 114,
   "metadata": {},
   "outputs": [],
   "source": [
    "#how can i control for this ind of beahaviour? \n",
    "#Multiple simulations and see what happens.\n",
    "\n",
    "time_limit = 1_000\n",
    "result_1 = simulation(starting_state=50, time_limit=time_limit)\n",
    "result_2 = simulation(starting_state=50, time_limit=time_limit)\n",
    "result_3 = simulation(starting_state=50, time_limit=time_limit)"
   ]
  },
  {
   "cell_type": "code",
   "execution_count": 116,
   "metadata": {},
   "outputs": [],
   "source": [
    "def plot_observations(observation_sequence, ax=None):\n",
    "    if ax is None:\n",
    "        ax = plt.gca()#get current axes, or he create a new figure\n",
    "    values = [obs.state for obs in observation_sequence]\n",
    "    times = [obs.time_of_observation \n",
    "             for obs in observation_sequence]\n",
    "    ax.plot(times, values, linestyle='steps-post')"
   ]
  },
  {
   "cell_type": "code",
   "execution_count": 117,
   "metadata": {},
   "outputs": [
    {
     "data": {
      "image/png": "[encoded data removed]",
      "text/plain": [
       "<Figure size 432x288 with 1 Axes>"
      ]
     },
     "metadata": {
      "needs_background": "light"
     },
     "output_type": "display_data"
    }
   ],
   "source": [
    "fig, ax = plt.subplots()\n",
    "plot_observations(result_1)\n",
    "plot_observations(result_2)\n",
    "plot_observations(result_3)"
   ]
  },
  {
   "cell_type": "code",
   "execution_count": 118,
   "metadata": {},
   "outputs": [],
   "source": [
    "# the first part of the simulations starting from 50 \n",
    "#can be dropped. The significant part is the last."
   ]
  },
  {
   "cell_type": "code",
   "execution_count": 119,
   "metadata": {},
   "outputs": [],
   "source": [
    "#Exercise:\n",
    "\n"
   ]
  }
 ],
 "metadata": {
  "kernelspec": {
   "display_name": "Python 3",
   "language": "python",
   "name": "python3"
  },
  "language_info": {
   "codemirror_mode": {
    "name": "ipython",
    "version": 3
   },
   "file_extension": ".py",
   "mimetype": "text/x-python",
   "name": "python",
   "nbconvert_exporter": "python",
   "pygments_lexer": "ipython3",
   "version": "3.6.8"
  }
 },
 "nbformat": 4,
 "nbformat_minor": 2
}
